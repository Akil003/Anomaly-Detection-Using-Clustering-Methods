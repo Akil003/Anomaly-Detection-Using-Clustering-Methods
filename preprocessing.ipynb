{
 "cells": [
  {
   "attachments": {},
   "cell_type": "markdown",
   "metadata": {},
   "source": [
    "## Import Data\n",
    "1. Import the data\n",
    "2. Assign the labels based on the dataset description"
   ]
  },
  {
   "cell_type": "code",
   "execution_count": 1,
   "metadata": {},
   "outputs": [
    {
     "data": {
      "text/html": [
       "<div>\n",
       "<style scoped>\n",
       "    .dataframe tbody tr th:only-of-type {\n",
       "        vertical-align: middle;\n",
       "    }\n",
       "\n",
       "    .dataframe tbody tr th {\n",
       "        vertical-align: top;\n",
       "    }\n",
       "\n",
       "    .dataframe thead th {\n",
       "        text-align: right;\n",
       "    }\n",
       "</style>\n",
       "<table border=\"1\" class=\"dataframe\">\n",
       "  <thead>\n",
       "    <tr style=\"text-align: right;\">\n",
       "      <th></th>\n",
       "      <th>srcip</th>\n",
       "      <th>sport</th>\n",
       "      <th>dstip</th>\n",
       "      <th>dsport</th>\n",
       "      <th>proto</th>\n",
       "      <th>state</th>\n",
       "      <th>dur</th>\n",
       "      <th>sbytes</th>\n",
       "      <th>dbytes</th>\n",
       "      <th>sttl</th>\n",
       "      <th>...</th>\n",
       "      <th>ct_ftp_cmd</th>\n",
       "      <th>ct_srv_src</th>\n",
       "      <th>ct_srv_dst</th>\n",
       "      <th>ct_dst_ltm</th>\n",
       "      <th>ct_src_ltm</th>\n",
       "      <th>ct_src_dport_ltm</th>\n",
       "      <th>ct_dst_sport_ltm</th>\n",
       "      <th>ct_dst_src_ltm</th>\n",
       "      <th>attack_cat</th>\n",
       "      <th>label</th>\n",
       "    </tr>\n",
       "  </thead>\n",
       "  <tbody>\n",
       "    <tr>\n",
       "      <th>0</th>\n",
       "      <td>59.166.0.9</td>\n",
       "      <td>9685</td>\n",
       "      <td>149.171.126.2</td>\n",
       "      <td>80</td>\n",
       "      <td>tcp</td>\n",
       "      <td>FIN</td>\n",
       "      <td>5.864748</td>\n",
       "      <td>19410</td>\n",
       "      <td>1087890</td>\n",
       "      <td>31</td>\n",
       "      <td>...</td>\n",
       "      <td></td>\n",
       "      <td>3</td>\n",
       "      <td>1</td>\n",
       "      <td>4</td>\n",
       "      <td>4</td>\n",
       "      <td>1</td>\n",
       "      <td>1</td>\n",
       "      <td>1</td>\n",
       "      <td>NaN</td>\n",
       "      <td>0</td>\n",
       "    </tr>\n",
       "    <tr>\n",
       "      <th>1</th>\n",
       "      <td>59.166.0.2</td>\n",
       "      <td>1421</td>\n",
       "      <td>149.171.126.4</td>\n",
       "      <td>53</td>\n",
       "      <td>udp</td>\n",
       "      <td>CON</td>\n",
       "      <td>0.001391</td>\n",
       "      <td>146</td>\n",
       "      <td>178</td>\n",
       "      <td>31</td>\n",
       "      <td>...</td>\n",
       "      <td></td>\n",
       "      <td>3</td>\n",
       "      <td>5</td>\n",
       "      <td>2</td>\n",
       "      <td>7</td>\n",
       "      <td>1</td>\n",
       "      <td>1</td>\n",
       "      <td>4</td>\n",
       "      <td>NaN</td>\n",
       "      <td>0</td>\n",
       "    </tr>\n",
       "    <tr>\n",
       "      <th>2</th>\n",
       "      <td>59.166.0.2</td>\n",
       "      <td>21553</td>\n",
       "      <td>149.171.126.2</td>\n",
       "      <td>25</td>\n",
       "      <td>tcp</td>\n",
       "      <td>FIN</td>\n",
       "      <td>0.053948</td>\n",
       "      <td>37812</td>\n",
       "      <td>3380</td>\n",
       "      <td>31</td>\n",
       "      <td>...</td>\n",
       "      <td></td>\n",
       "      <td>1</td>\n",
       "      <td>1</td>\n",
       "      <td>4</td>\n",
       "      <td>7</td>\n",
       "      <td>1</td>\n",
       "      <td>1</td>\n",
       "      <td>3</td>\n",
       "      <td>NaN</td>\n",
       "      <td>0</td>\n",
       "    </tr>\n",
       "    <tr>\n",
       "      <th>3</th>\n",
       "      <td>59.166.0.8</td>\n",
       "      <td>45212</td>\n",
       "      <td>149.171.126.4</td>\n",
       "      <td>53</td>\n",
       "      <td>udp</td>\n",
       "      <td>CON</td>\n",
       "      <td>0.000953</td>\n",
       "      <td>146</td>\n",
       "      <td>178</td>\n",
       "      <td>31</td>\n",
       "      <td>...</td>\n",
       "      <td></td>\n",
       "      <td>2</td>\n",
       "      <td>5</td>\n",
       "      <td>2</td>\n",
       "      <td>1</td>\n",
       "      <td>1</td>\n",
       "      <td>1</td>\n",
       "      <td>2</td>\n",
       "      <td>NaN</td>\n",
       "      <td>0</td>\n",
       "    </tr>\n",
       "    <tr>\n",
       "      <th>4</th>\n",
       "      <td>59.166.0.0</td>\n",
       "      <td>59922</td>\n",
       "      <td>149.171.126.8</td>\n",
       "      <td>6881</td>\n",
       "      <td>tcp</td>\n",
       "      <td>FIN</td>\n",
       "      <td>8.633186</td>\n",
       "      <td>25056</td>\n",
       "      <td>1094788</td>\n",
       "      <td>31</td>\n",
       "      <td>...</td>\n",
       "      <td></td>\n",
       "      <td>9</td>\n",
       "      <td>7</td>\n",
       "      <td>2</td>\n",
       "      <td>3</td>\n",
       "      <td>2</td>\n",
       "      <td>1</td>\n",
       "      <td>6</td>\n",
       "      <td>NaN</td>\n",
       "      <td>0</td>\n",
       "    </tr>\n",
       "  </tbody>\n",
       "</table>\n",
       "<p>5 rows × 49 columns</p>\n",
       "</div>"
      ],
      "text/plain": [
       "        srcip  sport          dstip dsport proto state       dur  sbytes  \\\n",
       "0  59.166.0.9   9685  149.171.126.2     80   tcp   FIN  5.864748   19410   \n",
       "1  59.166.0.2   1421  149.171.126.4     53   udp   CON  0.001391     146   \n",
       "2  59.166.0.2  21553  149.171.126.2     25   tcp   FIN  0.053948   37812   \n",
       "3  59.166.0.8  45212  149.171.126.4     53   udp   CON  0.000953     146   \n",
       "4  59.166.0.0  59922  149.171.126.8   6881   tcp   FIN  8.633186   25056   \n",
       "\n",
       "    dbytes  sttl  ...  ct_ftp_cmd  ct_srv_src  ct_srv_dst ct_dst_ltm  \\\n",
       "0  1087890    31  ...                       3           1          4   \n",
       "1      178    31  ...                       3           5          2   \n",
       "2     3380    31  ...                       1           1          4   \n",
       "3      178    31  ...                       2           5          2   \n",
       "4  1094788    31  ...                       9           7          2   \n",
       "\n",
       "   ct_src_ltm  ct_src_dport_ltm  ct_dst_sport_ltm  ct_dst_src_ltm  attack_cat  \\\n",
       "0           4                 1                 1               1         NaN   \n",
       "1           7                 1                 1               4         NaN   \n",
       "2           7                 1                 1               3         NaN   \n",
       "3           1                 1                 1               2         NaN   \n",
       "4           3                 2                 1               6         NaN   \n",
       "\n",
       "   label  \n",
       "0      0  \n",
       "1      0  \n",
       "2      0  \n",
       "3      0  \n",
       "4      0  \n",
       "\n",
       "[5 rows x 49 columns]"
      ]
     },
     "execution_count": 1,
     "metadata": {},
     "output_type": "execute_result"
    }
   ],
   "source": [
    "import pandas as pd\n",
    "\n",
    "df = pd.read_csv('data/UNSW-NB15_4.csv')\n",
    "\n",
    "df.columns = ['srcip',    'sport',    'dstip',    'dsport',    'proto',    'state',    'dur',    'sbytes',    'dbytes',    'sttl',    'dttl',    'sloss',    'dloss',    'service',    'sload',    'dload',    'spkts',    'dpkts',    'swin',    'dwin',    'stcpb',    'dtcpb',    'smeansz',    'dmeansz',    'trans_depth',    'res_bdy_len',    'sjit',\n",
    "                        'djit',    'Stime',    'ltime',    'dintpkt',    'dintpkt',    'tcprtt',    'synack',    'ackdat',    'is_sm_ips_ports',    'ct_state_ttl',    'ct_flw_http_mthd',    'is_ftp_login',    'ct_ftp_cmd',    'ct_srv_src',    'ct_srv_dst',    'ct_dst_ltm',    'ct_src_ltm',    'ct_src_dport_ltm',    'ct_dst_sport_ltm',    'ct_dst_src_ltm',    'attack_cat',    'label']\n",
    "df.head()"
   ]
  },
  {
   "cell_type": "markdown",
   "metadata": {},
   "source": [
    "We will be using unsupervised models, so we discard any labels"
   ]
  },
  {
   "cell_type": "code",
   "execution_count": 2,
   "metadata": {},
   "outputs": [],
   "source": [
    "df = df.drop(['attack_cat', 'label'], axis = 1)"
   ]
  },
  {
   "cell_type": "markdown",
   "metadata": {},
   "source": [
    "The dataset if very use, so we will just use a subset for our experiment"
   ]
  },
  {
   "cell_type": "code",
   "execution_count": 3,
   "metadata": {},
   "outputs": [
    {
     "data": {
      "text/html": [
       "<div>\n",
       "<style scoped>\n",
       "    .dataframe tbody tr th:only-of-type {\n",
       "        vertical-align: middle;\n",
       "    }\n",
       "\n",
       "    .dataframe tbody tr th {\n",
       "        vertical-align: top;\n",
       "    }\n",
       "\n",
       "    .dataframe thead th {\n",
       "        text-align: right;\n",
       "    }\n",
       "</style>\n",
       "<table border=\"1\" class=\"dataframe\">\n",
       "  <thead>\n",
       "    <tr style=\"text-align: right;\">\n",
       "      <th></th>\n",
       "      <th>srcip</th>\n",
       "      <th>sport</th>\n",
       "      <th>dstip</th>\n",
       "      <th>dsport</th>\n",
       "      <th>proto</th>\n",
       "      <th>state</th>\n",
       "      <th>dur</th>\n",
       "      <th>sbytes</th>\n",
       "      <th>dbytes</th>\n",
       "      <th>sttl</th>\n",
       "      <th>...</th>\n",
       "      <th>ct_flw_http_mthd</th>\n",
       "      <th>is_ftp_login</th>\n",
       "      <th>ct_ftp_cmd</th>\n",
       "      <th>ct_srv_src</th>\n",
       "      <th>ct_srv_dst</th>\n",
       "      <th>ct_dst_ltm</th>\n",
       "      <th>ct_src_ltm</th>\n",
       "      <th>ct_src_dport_ltm</th>\n",
       "      <th>ct_dst_sport_ltm</th>\n",
       "      <th>ct_dst_src_ltm</th>\n",
       "    </tr>\n",
       "  </thead>\n",
       "  <tbody>\n",
       "    <tr>\n",
       "      <th>178777</th>\n",
       "      <td>149.171.126.14</td>\n",
       "      <td>1043</td>\n",
       "      <td>175.45.176.1</td>\n",
       "      <td>53</td>\n",
       "      <td>udp</td>\n",
       "      <td>INT</td>\n",
       "      <td>0.000003</td>\n",
       "      <td>264</td>\n",
       "      <td>0</td>\n",
       "      <td>60</td>\n",
       "      <td>...</td>\n",
       "      <td>NaN</td>\n",
       "      <td>NaN</td>\n",
       "      <td></td>\n",
       "      <td>39</td>\n",
       "      <td>39</td>\n",
       "      <td>18</td>\n",
       "      <td>18</td>\n",
       "      <td>18</td>\n",
       "      <td>18</td>\n",
       "      <td>39</td>\n",
       "    </tr>\n",
       "    <tr>\n",
       "      <th>178937</th>\n",
       "      <td>149.171.126.14</td>\n",
       "      <td>1043</td>\n",
       "      <td>175.45.176.1</td>\n",
       "      <td>53</td>\n",
       "      <td>udp</td>\n",
       "      <td>INT</td>\n",
       "      <td>0.000007</td>\n",
       "      <td>264</td>\n",
       "      <td>0</td>\n",
       "      <td>60</td>\n",
       "      <td>...</td>\n",
       "      <td>NaN</td>\n",
       "      <td>NaN</td>\n",
       "      <td></td>\n",
       "      <td>42</td>\n",
       "      <td>42</td>\n",
       "      <td>42</td>\n",
       "      <td>42</td>\n",
       "      <td>42</td>\n",
       "      <td>23</td>\n",
       "      <td>42</td>\n",
       "    </tr>\n",
       "    <tr>\n",
       "      <th>339242</th>\n",
       "      <td>59.166.0.8</td>\n",
       "      <td>54347</td>\n",
       "      <td>149.171.126.1</td>\n",
       "      <td>25541</td>\n",
       "      <td>tcp</td>\n",
       "      <td>FIN</td>\n",
       "      <td>0.372510</td>\n",
       "      <td>4296</td>\n",
       "      <td>3080</td>\n",
       "      <td>31</td>\n",
       "      <td>...</td>\n",
       "      <td>NaN</td>\n",
       "      <td>NaN</td>\n",
       "      <td></td>\n",
       "      <td>3</td>\n",
       "      <td>5</td>\n",
       "      <td>4</td>\n",
       "      <td>1</td>\n",
       "      <td>1</td>\n",
       "      <td>1</td>\n",
       "      <td>1</td>\n",
       "    </tr>\n",
       "    <tr>\n",
       "      <th>314795</th>\n",
       "      <td>149.171.126.10</td>\n",
       "      <td>47439</td>\n",
       "      <td>175.45.176.0</td>\n",
       "      <td>53</td>\n",
       "      <td>udp</td>\n",
       "      <td>INT</td>\n",
       "      <td>0.000005</td>\n",
       "      <td>264</td>\n",
       "      <td>0</td>\n",
       "      <td>60</td>\n",
       "      <td>...</td>\n",
       "      <td>NaN</td>\n",
       "      <td>NaN</td>\n",
       "      <td></td>\n",
       "      <td>42</td>\n",
       "      <td>42</td>\n",
       "      <td>42</td>\n",
       "      <td>42</td>\n",
       "      <td>42</td>\n",
       "      <td>16</td>\n",
       "      <td>42</td>\n",
       "    </tr>\n",
       "    <tr>\n",
       "      <th>239837</th>\n",
       "      <td>175.45.176.2</td>\n",
       "      <td>26297</td>\n",
       "      <td>149.171.126.15</td>\n",
       "      <td>80</td>\n",
       "      <td>tcp</td>\n",
       "      <td>FIN</td>\n",
       "      <td>0.725453</td>\n",
       "      <td>910</td>\n",
       "      <td>268</td>\n",
       "      <td>254</td>\n",
       "      <td>...</td>\n",
       "      <td>1.0</td>\n",
       "      <td>NaN</td>\n",
       "      <td></td>\n",
       "      <td>1</td>\n",
       "      <td>1</td>\n",
       "      <td>1</td>\n",
       "      <td>2</td>\n",
       "      <td>1</td>\n",
       "      <td>1</td>\n",
       "      <td>1</td>\n",
       "    </tr>\n",
       "  </tbody>\n",
       "</table>\n",
       "<p>5 rows × 47 columns</p>\n",
       "</div>"
      ],
      "text/plain": [
       "                 srcip  sport           dstip dsport proto state       dur  \\\n",
       "178777  149.171.126.14   1043    175.45.176.1     53   udp   INT  0.000003   \n",
       "178937  149.171.126.14   1043    175.45.176.1     53   udp   INT  0.000007   \n",
       "339242      59.166.0.8  54347   149.171.126.1  25541   tcp   FIN  0.372510   \n",
       "314795  149.171.126.10  47439    175.45.176.0     53   udp   INT  0.000005   \n",
       "239837    175.45.176.2  26297  149.171.126.15     80   tcp   FIN  0.725453   \n",
       "\n",
       "        sbytes  dbytes  sttl  ...  ct_flw_http_mthd  is_ftp_login  ct_ftp_cmd  \\\n",
       "178777     264       0    60  ...               NaN           NaN               \n",
       "178937     264       0    60  ...               NaN           NaN               \n",
       "339242    4296    3080    31  ...               NaN           NaN               \n",
       "314795     264       0    60  ...               NaN           NaN               \n",
       "239837     910     268   254  ...               1.0           NaN               \n",
       "\n",
       "       ct_srv_src  ct_srv_dst  ct_dst_ltm  ct_src_ltm  ct_src_dport_ltm  \\\n",
       "178777         39          39          18          18                18   \n",
       "178937         42          42          42          42                42   \n",
       "339242          3           5           4           1                 1   \n",
       "314795         42          42          42          42                42   \n",
       "239837          1           1           1           2                 1   \n",
       "\n",
       "        ct_dst_sport_ltm  ct_dst_src_ltm  \n",
       "178777                18              39  \n",
       "178937                23              42  \n",
       "339242                 1               1  \n",
       "314795                16              42  \n",
       "239837                 1               1  \n",
       "\n",
       "[5 rows x 47 columns]"
      ]
     },
     "execution_count": 3,
     "metadata": {},
     "output_type": "execute_result"
    }
   ],
   "source": [
    "sample = df.sample(50_000, random_state=42)\n",
    "sample.head()"
   ]
  },
  {
   "attachments": {},
   "cell_type": "markdown",
   "metadata": {},
   "source": [
    "## Preprocessing"
   ]
  },
  {
   "attachments": {},
   "cell_type": "markdown",
   "metadata": {},
   "source": [
    "### Discretization\n",
    "Convert nominal data to numeric (We will use One-Hot-Encoding) <br><br>\n",
    "Note : Ports may be treated as numerical attributes in cases where the focus of the analysis is on the volume of traffic and not on the specific ports. Also, treating ports as categorial and applying OHE would escalate the number of attribues,so we con't treat port numbers as categorical."
   ]
  },
  {
   "cell_type": "code",
   "execution_count": 4,
   "metadata": {},
   "outputs": [],
   "source": [
    "\n",
    "nominal_cols = ['srcip', 'dstip', 'proto']\n",
    "sample = pd.get_dummies(sample, columns=nominal_cols)"
   ]
  },
  {
   "cell_type": "code",
   "execution_count": 5,
   "metadata": {},
   "outputs": [
    {
     "data": {
      "text/plain": [
       "sport              int64\n",
       "dsport            object\n",
       "state             object\n",
       "dur              float64\n",
       "sbytes             int64\n",
       "                  ...   \n",
       "proto_wsn          uint8\n",
       "proto_xnet         uint8\n",
       "proto_xns-idp      uint8\n",
       "proto_xtp          uint8\n",
       "proto_zero         uint8\n",
       "Length: 241, dtype: object"
      ]
     },
     "execution_count": 5,
     "metadata": {},
     "output_type": "execute_result"
    }
   ],
   "source": [
    "sample.dtypes"
   ]
  },
  {
   "cell_type": "markdown",
   "metadata": {},
   "source": [
    "### Cleaning and Numeric Conversion\n",
    "\n",
    "1. We will convert all the data in the dataframe to numeric and keep any invalid/missing data as NaN.\n",
    "2. If there exists columns with only NaN values or almost all Nan Values, we will drop them.\n",
    "3. If there exists rows with NaN values, we will drop them."
   ]
  },
  {
   "cell_type": "code",
   "execution_count": 6,
   "metadata": {},
   "outputs": [
    {
     "data": {
      "text/plain": [
       "(50000, 241)"
      ]
     },
     "execution_count": 6,
     "metadata": {},
     "output_type": "execute_result"
    }
   ],
   "source": [
    "import numpy as np\n",
    "# convert columns to numeric data types\n",
    "sample = sample.apply(pd.to_numeric, errors='coerce')\n",
    "sample.shape"
   ]
  },
  {
   "cell_type": "code",
   "execution_count": 7,
   "metadata": {},
   "outputs": [
    {
     "data": {
      "text/plain": [
       "(50000, 239)"
      ]
     },
     "execution_count": 7,
     "metadata": {},
     "output_type": "execute_result"
    }
   ],
   "source": [
    "# Remove the columns for which all the values are NaN\n",
    "sample = sample.dropna(axis = 1, how = 'all')\n",
    "sample.shape"
   ]
  },
  {
   "cell_type": "code",
   "execution_count": 8,
   "metadata": {},
   "outputs": [
    {
     "data": {
      "text/plain": [
       "Index(['dsport', 'ct_flw_http_mthd', 'is_ftp_login', 'ct_ftp_cmd'], dtype='object')"
      ]
     },
     "execution_count": 8,
     "metadata": {},
     "output_type": "execute_result"
    }
   ],
   "source": [
    "sample.columns[sample.isnull().any()]"
   ]
  },
  {
   "cell_type": "code",
   "execution_count": 9,
   "metadata": {},
   "outputs": [
    {
     "data": {
      "text/plain": [
       "(46189, 49263, 49263)"
      ]
     },
     "execution_count": 9,
     "metadata": {},
     "output_type": "execute_result"
    }
   ],
   "source": [
    "sample['ct_flw_http_mthd'].isnull().sum(), sample['is_ftp_login'].isnull().sum(), sample['ct_ftp_cmd'].isnull().sum()"
   ]
  },
  {
   "cell_type": "code",
   "execution_count": 10,
   "metadata": {},
   "outputs": [],
   "source": [
    "#'ct_flw_http_mthd', 'is_ftp_login', 'ct_ftp_cmd' have a lot of null values, so we discard themm\n",
    "sample = sample.drop(['ct_flw_http_mthd', 'is_ftp_login', 'ct_ftp_cmd'], axis = 1)"
   ]
  },
  {
   "cell_type": "code",
   "execution_count": 11,
   "metadata": {},
   "outputs": [
    {
     "data": {
      "text/plain": [
       "9"
      ]
     },
     "execution_count": 11,
     "metadata": {},
     "output_type": "execute_result"
    }
   ],
   "source": [
    "sample['dsport'].isnull().sum()"
   ]
  },
  {
   "cell_type": "code",
   "execution_count": 12,
   "metadata": {},
   "outputs": [
    {
     "data": {
      "text/plain": [
       "(49991, 236)"
      ]
     },
     "execution_count": 12,
     "metadata": {},
     "output_type": "execute_result"
    }
   ],
   "source": [
    "# We discard the rows with null values as dsport seems to have some of them\n",
    "sample = sample.dropna()\n",
    "sample.shape"
   ]
  },
  {
   "cell_type": "code",
   "execution_count": 13,
   "metadata": {},
   "outputs": [
    {
     "data": {
      "text/html": [
       "<div>\n",
       "<style scoped>\n",
       "    .dataframe tbody tr th:only-of-type {\n",
       "        vertical-align: middle;\n",
       "    }\n",
       "\n",
       "    .dataframe tbody tr th {\n",
       "        vertical-align: top;\n",
       "    }\n",
       "\n",
       "    .dataframe thead th {\n",
       "        text-align: right;\n",
       "    }\n",
       "</style>\n",
       "<table border=\"1\" class=\"dataframe\">\n",
       "  <thead>\n",
       "    <tr style=\"text-align: right;\">\n",
       "      <th></th>\n",
       "      <th>sport</th>\n",
       "      <th>dsport</th>\n",
       "      <th>dur</th>\n",
       "      <th>sbytes</th>\n",
       "      <th>dbytes</th>\n",
       "      <th>sttl</th>\n",
       "      <th>dttl</th>\n",
       "      <th>sloss</th>\n",
       "      <th>dloss</th>\n",
       "      <th>sload</th>\n",
       "      <th>...</th>\n",
       "      <th>proto_visa</th>\n",
       "      <th>proto_vmtp</th>\n",
       "      <th>proto_vrrp</th>\n",
       "      <th>proto_wb-expak</th>\n",
       "      <th>proto_wb-mon</th>\n",
       "      <th>proto_wsn</th>\n",
       "      <th>proto_xnet</th>\n",
       "      <th>proto_xns-idp</th>\n",
       "      <th>proto_xtp</th>\n",
       "      <th>proto_zero</th>\n",
       "    </tr>\n",
       "  </thead>\n",
       "  <tbody>\n",
       "    <tr>\n",
       "      <th>178777</th>\n",
       "      <td>1043</td>\n",
       "      <td>53.0</td>\n",
       "      <td>0.000003</td>\n",
       "      <td>264</td>\n",
       "      <td>0</td>\n",
       "      <td>60</td>\n",
       "      <td>0</td>\n",
       "      <td>0</td>\n",
       "      <td>0</td>\n",
       "      <td>3.520000e+08</td>\n",
       "      <td>...</td>\n",
       "      <td>0</td>\n",
       "      <td>0</td>\n",
       "      <td>0</td>\n",
       "      <td>0</td>\n",
       "      <td>0</td>\n",
       "      <td>0</td>\n",
       "      <td>0</td>\n",
       "      <td>0</td>\n",
       "      <td>0</td>\n",
       "      <td>0</td>\n",
       "    </tr>\n",
       "    <tr>\n",
       "      <th>178937</th>\n",
       "      <td>1043</td>\n",
       "      <td>53.0</td>\n",
       "      <td>0.000007</td>\n",
       "      <td>264</td>\n",
       "      <td>0</td>\n",
       "      <td>60</td>\n",
       "      <td>0</td>\n",
       "      <td>0</td>\n",
       "      <td>0</td>\n",
       "      <td>1.508571e+08</td>\n",
       "      <td>...</td>\n",
       "      <td>0</td>\n",
       "      <td>0</td>\n",
       "      <td>0</td>\n",
       "      <td>0</td>\n",
       "      <td>0</td>\n",
       "      <td>0</td>\n",
       "      <td>0</td>\n",
       "      <td>0</td>\n",
       "      <td>0</td>\n",
       "      <td>0</td>\n",
       "    </tr>\n",
       "    <tr>\n",
       "      <th>339242</th>\n",
       "      <td>54347</td>\n",
       "      <td>25541.0</td>\n",
       "      <td>0.372510</td>\n",
       "      <td>4296</td>\n",
       "      <td>3080</td>\n",
       "      <td>31</td>\n",
       "      <td>29</td>\n",
       "      <td>7</td>\n",
       "      <td>7</td>\n",
       "      <td>8.897480e+04</td>\n",
       "      <td>...</td>\n",
       "      <td>0</td>\n",
       "      <td>0</td>\n",
       "      <td>0</td>\n",
       "      <td>0</td>\n",
       "      <td>0</td>\n",
       "      <td>0</td>\n",
       "      <td>0</td>\n",
       "      <td>0</td>\n",
       "      <td>0</td>\n",
       "      <td>0</td>\n",
       "    </tr>\n",
       "    <tr>\n",
       "      <th>314795</th>\n",
       "      <td>47439</td>\n",
       "      <td>53.0</td>\n",
       "      <td>0.000005</td>\n",
       "      <td>264</td>\n",
       "      <td>0</td>\n",
       "      <td>60</td>\n",
       "      <td>0</td>\n",
       "      <td>0</td>\n",
       "      <td>0</td>\n",
       "      <td>2.112000e+08</td>\n",
       "      <td>...</td>\n",
       "      <td>0</td>\n",
       "      <td>0</td>\n",
       "      <td>0</td>\n",
       "      <td>0</td>\n",
       "      <td>0</td>\n",
       "      <td>0</td>\n",
       "      <td>0</td>\n",
       "      <td>0</td>\n",
       "      <td>0</td>\n",
       "      <td>0</td>\n",
       "    </tr>\n",
       "    <tr>\n",
       "      <th>239837</th>\n",
       "      <td>26297</td>\n",
       "      <td>80.0</td>\n",
       "      <td>0.725453</td>\n",
       "      <td>910</td>\n",
       "      <td>268</td>\n",
       "      <td>254</td>\n",
       "      <td>252</td>\n",
       "      <td>2</td>\n",
       "      <td>1</td>\n",
       "      <td>9.031598e+03</td>\n",
       "      <td>...</td>\n",
       "      <td>0</td>\n",
       "      <td>0</td>\n",
       "      <td>0</td>\n",
       "      <td>0</td>\n",
       "      <td>0</td>\n",
       "      <td>0</td>\n",
       "      <td>0</td>\n",
       "      <td>0</td>\n",
       "      <td>0</td>\n",
       "      <td>0</td>\n",
       "    </tr>\n",
       "  </tbody>\n",
       "</table>\n",
       "<p>5 rows × 236 columns</p>\n",
       "</div>"
      ],
      "text/plain": [
       "        sport   dsport       dur  sbytes  dbytes  sttl  dttl  sloss  dloss  \\\n",
       "178777   1043     53.0  0.000003     264       0    60     0      0      0   \n",
       "178937   1043     53.0  0.000007     264       0    60     0      0      0   \n",
       "339242  54347  25541.0  0.372510    4296    3080    31    29      7      7   \n",
       "314795  47439     53.0  0.000005     264       0    60     0      0      0   \n",
       "239837  26297     80.0  0.725453     910     268   254   252      2      1   \n",
       "\n",
       "               sload  ...  proto_visa  proto_vmtp  proto_vrrp  proto_wb-expak  \\\n",
       "178777  3.520000e+08  ...           0           0           0               0   \n",
       "178937  1.508571e+08  ...           0           0           0               0   \n",
       "339242  8.897480e+04  ...           0           0           0               0   \n",
       "314795  2.112000e+08  ...           0           0           0               0   \n",
       "239837  9.031598e+03  ...           0           0           0               0   \n",
       "\n",
       "        proto_wb-mon  proto_wsn  proto_xnet  proto_xns-idp  proto_xtp  \\\n",
       "178777             0          0           0              0          0   \n",
       "178937             0          0           0              0          0   \n",
       "339242             0          0           0              0          0   \n",
       "314795             0          0           0              0          0   \n",
       "239837             0          0           0              0          0   \n",
       "\n",
       "        proto_zero  \n",
       "178777           0  \n",
       "178937           0  \n",
       "339242           0  \n",
       "314795           0  \n",
       "239837           0  \n",
       "\n",
       "[5 rows x 236 columns]"
      ]
     },
     "execution_count": 13,
     "metadata": {},
     "output_type": "execute_result"
    }
   ],
   "source": [
    "sample.head()"
   ]
  },
  {
   "attachments": {},
   "cell_type": "markdown",
   "metadata": {},
   "source": [
    "### Standardization\n",
    "We will standardize the data before performing PCA to help bring all the features to the same scale  and avoids any feature dominating others during the PCA process."
   ]
  },
  {
   "cell_type": "code",
   "execution_count": 14,
   "metadata": {},
   "outputs": [],
   "source": [
    "from sklearn.preprocessing import StandardScaler\n",
    "\n",
    "scaler = StandardScaler()\n",
    "standard_sample = scaler.fit_transform(sample)"
   ]
  },
  {
   "cell_type": "code",
   "execution_count": 15,
   "metadata": {},
   "outputs": [
    {
     "data": {
      "text/plain": [
       "array([[-1.31940043, -0.51814953, -0.15622553, ..., -0.0077469 ,\n",
       "        -0.00894543, -0.00894543],\n",
       "       [-1.31940043, -0.51814953, -0.15622443, ..., -0.0077469 ,\n",
       "        -0.00894543, -0.00894543],\n",
       "       [ 1.18783939,  0.98558202, -0.05406021, ..., -0.0077469 ,\n",
       "        -0.00894543, -0.00894543],\n",
       "       ...,\n",
       "       [ 0.86291044, -0.51814953, -0.15622443, ..., -0.0077469 ,\n",
       "        -0.00894543, -0.00894543],\n",
       "       [ 0.86291044, -0.51814953, -0.15622416, ..., -0.0077469 ,\n",
       "        -0.00894543, -0.00894543],\n",
       "       [-1.31940043, -0.51814953, -0.15622471, ..., -0.0077469 ,\n",
       "        -0.00894543, -0.00894543]])"
      ]
     },
     "execution_count": 15,
     "metadata": {},
     "output_type": "execute_result"
    }
   ],
   "source": [
    "standard_sample[:10]"
   ]
  },
  {
   "cell_type": "markdown",
   "metadata": {},
   "source": [
    "### Dimension Redunction\n",
    "\n",
    "1. We will use Scree plot to determine the number of components that can identify the \"elbow\" or point where the decrease in eigenvalues slows down.\n",
    "2. We will then find the principal components based on the scree plot and transform our data to those dimensions"
   ]
  },
  {
   "cell_type": "markdown",
   "metadata": {},
   "source": [
    "#### Scree Plot"
   ]
  },
  {
   "cell_type": "code",
   "execution_count": 16,
   "metadata": {},
   "outputs": [
    {
     "data": {
      "image/png": "[encoded data removed]",
      "text/plain": [
       "<Figure size 640x480 with 1 Axes>"
      ]
     },
     "metadata": {},
     "output_type": "display_data"
    },
    {
     "name": "stdout",
     "output_type": "stream",
     "text": [
      "The number of components to retain based on the scree plot is 2\n"
     ]
    }
   ],
   "source": [
    "# Reduce the dimention of the attributes\n",
    "\n",
    "from sklearn.decomposition import PCA\n",
    "import matplotlib.pyplot as plt\n",
    "\n",
    "# Conduct PCA and calculate the eigenvalues for each component\n",
    "pca = PCA()\n",
    "pca.fit(sample)\n",
    "eigenvalues = pca.explained_variance_\n",
    "\n",
    "# Plot the scree plot\n",
    "plt.plot(range(1, len(eigenvalues) + 1), eigenvalues, marker=None)\n",
    "plt.xlabel('Component Number')\n",
    "plt.ylabel('Eigenvalue')\n",
    "plt.title('Scree Plot')\n",
    "plt.show()\n",
    "\n",
    "# Determine the number of components to retain based on the scree plot\n",
    "total_variance = sum(eigenvalues)\n",
    "variance_explained = [(i / total_variance) for i in sorted(eigenvalues, reverse=True)]\n",
    "cumulative_variance_explained = np.cumsum(variance_explained)\n",
    "num_components = np.argmax(cumulative_variance_explained >= 0.99) + 1\n",
    "\n",
    "print(f\"The number of components to retain based on the scree plot is {num_components}\")"
   ]
  },
  {
   "cell_type": "markdown",
   "metadata": {},
   "source": [
    "#### PCA"
   ]
  },
  {
   "cell_type": "code",
   "execution_count": 17,
   "metadata": {},
   "outputs": [],
   "source": [
    "from sklearn.decomposition import PCA\n",
    "\n",
    "# Set the number of components to retain\n",
    "n_components = num_components\n",
    "\n",
    "# Conduct PCA and transform the data\n",
    "pca = PCA(n_components=n_components)\n",
    "sample_transformed = pca.fit_transform(sample)"
   ]
  },
  {
   "cell_type": "code",
   "execution_count": 18,
   "metadata": {},
   "outputs": [
    {
     "data": {
      "text/plain": [
       "array([-1.47843015e+09, -1.47228510e+09, -1.48189601e+08, ...,\n",
       "        2.20261540e+09, -1.46767715e+09, -1.24166730e+09])"
      ]
     },
     "execution_count": 18,
     "metadata": {},
     "output_type": "execute_result"
    }
   ],
   "source": [
    "sample_transformed[:, 0]"
   ]
  },
  {
   "cell_type": "markdown",
   "metadata": {},
   "source": [
    "### Visualize"
   ]
  },
  {
   "cell_type": "code",
   "execution_count": 19,
   "metadata": {},
   "outputs": [
    {
     "data": {
      "image/png": "[encoded data removed]",
      "text/plain": [
       "<Figure size 640x480 with 1 Axes>"
      ]
     },
     "metadata": {},
     "output_type": "display_data"
    }
   ],
   "source": [
    "import matplotlib.pyplot as plt\n",
    "\n",
    "plt.scatter(sample_transformed[:, 0], sample_transformed[:, 1], marker='.',s = 1)\n",
    "    \n",
    "\n",
    "# Set the plot title and axis labels\n",
    "plt.title('Data after Dimension Reduction')\n",
    "plt.xlabel('x')\n",
    "plt.ylabel('y')\n",
    "\n",
    "# Show the plot\n",
    "plt.show()"
   ]
  },
  {
   "cell_type": "markdown",
   "metadata": {},
   "source": [
    "### Standardization Round 2\n",
    "Performing scaling after PCA helps to bring down the magnitude of the principal components, which can be very large after PCA, without losing any information"
   ]
  },
  {
   "cell_type": "code",
   "execution_count": 20,
   "metadata": {},
   "outputs": [],
   "source": [
    "\n",
    "from sklearn.preprocessing import StandardScaler\n",
    "\n",
    "# assuming X is your data matrix\n",
    "scaler = StandardScaler()\n",
    "standard_sample = scaler.fit_transform(sample_transformed)"
   ]
  },
  {
   "cell_type": "code",
   "execution_count": 21,
   "metadata": {},
   "outputs": [
    {
     "data": {
      "text/plain": [
       "array([[-0.82435587,  0.0035694 ],\n",
       "       [-0.82092947,  0.00348746],\n",
       "       [-0.08262884, -0.04816642],\n",
       "       [-0.82195739,  0.00351204],\n",
       "       [ 0.54709339,  1.20509148],\n",
       "       [-0.81937201,  0.00345021],\n",
       "       [-0.82195739,  0.00351204],\n",
       "       [-0.82092947,  0.00348746],\n",
       "       [-0.81933064,  0.00344922],\n",
       "       [-0.82135777,  0.0034977 ]])"
      ]
     },
     "execution_count": 21,
     "metadata": {},
     "output_type": "execute_result"
    }
   ],
   "source": [
    "standard_sample[:10]"
   ]
  },
  {
   "cell_type": "code",
   "execution_count": 22,
   "metadata": {},
   "outputs": [
    {
     "data": {
      "image/png": "[encoded data removed]",
      "text/plain": [
       "<Figure size 640x480 with 1 Axes>"
      ]
     },
     "metadata": {},
     "output_type": "display_data"
    }
   ],
   "source": [
    "import matplotlib.pyplot as plt\n",
    "\n",
    "plt.scatter(standard_sample[:, 0], standard_sample[:, 1], marker='.',s = 1)\n",
    "\n",
    "\n",
    "# Set the plot title and axis labels\n",
    "plt.title('Standardized data')\n",
    "plt.xlabel('x')\n",
    "plt.ylabel('y')\n",
    "\n",
    "# Show the plot\n",
    "plt.show()"
   ]
  },
  {
   "cell_type": "markdown",
   "metadata": {},
   "source": [
    "## Export the processed data"
   ]
  },
  {
   "cell_type": "code",
   "execution_count": 23,
   "metadata": {},
   "outputs": [],
   "source": [
    "# Use the transformed data for further analysis or modeling\n",
    "# Save it in a file\n",
    "import pandas as pd\n",
    "transformed_df = pd.DataFrame(standard_sample)\n",
    "\n",
    "transformed_df.to_csv('./data/processed_data.csv', header=None, index=None)"
   ]
  }
 ],
 "metadata": {
  "kernelspec": {
   "display_name": "Python 3",
   "language": "python",
   "name": "python3"
  },
  "language_info": {
   "codemirror_mode": {
    "name": "ipython",
    "version": 3
   },
   "file_extension": ".py",
   "mimetype": "text/x-python",
   "name": "python",
   "nbconvert_exporter": "python",
   "pygments_lexer": "ipython3",
   "version": "3.11.1"
  },
  "orig_nbformat": 4
 },
 "nbformat": 4,
 "nbformat_minor": 2
}
